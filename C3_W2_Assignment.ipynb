{
 "cells": [
  {
   "cell_type": "markdown",
   "id": "4caafec3",
   "metadata": {},
   "source": [
    "# Loaded dice \n",
    "\n",
    "Welcome to the second assignment in the course Probability and Statistics for Machine Learning and Data Science! In this quiz-like assignment you will test your intuition about the concepts covered in the lectures by taking the example with the dice to the next level. \n",
    "\n",
    "**This assignment can be completed with just pencil and paper, or even your intuition about probability, but in many questions using the skills you're developing as a programmer may help**. "
   ]
  },
  {
   "cell_type": "markdown",
   "id": "3bff9c20",
   "metadata": {},
   "source": [
    "## 1 - Introduction\n",
    "\n",
    "You will be presented with 11 questions regarding a several dice games. Sometimes the dice is loaded, sometimes it is not. You will have clear instructions for each exercise.\n",
    "\n",
    "### 1.1 How to go through the assignment\n",
    "\n",
    "In each exercise you there will be a question about throwing some dice that may or may not be loaded. You will have to answer questions about the results of each scenario, such as calculating the expected value of the dice throw or selecting the graph that best represents the distribution of outcomes. \n",
    "\n",
    "In any case, **you will be able to solve the exercise with one of the following methods:**\n",
    "\n",
    "- **By hand:** You may make your calculations by hand, using the theory you have developed in the lectures.\n",
    "- **Using Python:** You may use the empty block of code provided to make computations and simulations, to obtain the result.\n",
    "\n",
    "After each exercise you will save your solution by running a special code cell and adding your answer. The cells contain a single line of code in the format `utils.exercise_1()` which will launch the interface in which you can save your answer. **You will save your responses to each exercise as you go, but you won't submit all your responses for grading until you submit this assignment at the end.**\n",
    "\n",
    "Let's go over an example! Before, let's import the necessary libraries."
   ]
  },
  {
   "cell_type": "markdown",
   "id": "3d256624",
   "metadata": {},
   "source": [
    "## 2 - Importing the libraries"
   ]
  },
  {
   "cell_type": "code",
   "execution_count": 1,
   "id": "da0fcf2f",
   "metadata": {},
   "outputs": [],
   "source": [
    "import numpy as np\n",
    "import pandas as pd\n",
    "import seaborn as sns\n",
    "import matplotlib.pyplot as plt\n",
    "import utils"
   ]
  },
  {
   "cell_type": "markdown",
   "id": "e1637bc9",
   "metadata": {},
   "source": [
    "## 3 - A worked example on how to complete this assignment.\n",
    "\n",
    "Now let's go over one example question, so you understand how to go through the assignment.\n",
    "\n",
    "### 3.1 Example question\n",
    "\n",
    "Question: Given a 6-sided fair dice, you throw it two times and save the result. What is the probability that the sum of your two throws is greater than 5? (Give your result with 1 decimal place).\n",
    "\n",
    "After the question, you will see the following block of code."
   ]
  },
  {
   "cell_type": "code",
   "execution_count": 8,
   "id": "c789233e",
   "metadata": {},
   "outputs": [
    {
     "name": "stdout",
     "output_type": "stream",
     "text": [
      "Probability of getting a sum greater than 5: 0.72191\n"
     ]
    }
   ],
   "source": [
    "import numpy as np\n",
    "\n",
    "# Define the possible outcomes of rolling a fair 6-sided dice\n",
    "dice = np.array([i for i in range(1, 7)])\n",
    "\n",
    "# Number of rolls\n",
    "n_roll = 200_000\n",
    "np.random.seed(42)\n",
    "# List to store the sum of each roll\n",
    "output = []\n",
    "\n",
    "# Simulate rolling the dice and calculate the sum of each roll\n",
    "for i in range(n_roll):\n",
    "    first_roll = np.random.choice(dice)\n",
    "    second_roll = np.random.choice(dice)\n",
    "    sum_of_rolls = first_roll + second_roll\n",
    "    output.append(sum_of_rolls)\n",
    "\n",
    "\n",
    "count_greater_5 = 0\n",
    "for x in output:\n",
    "    if x>5:\n",
    "        count_greater_5 += 1\n",
    "    \n",
    "# Calculate the probability of getting a sum greater than 5\n",
    "prob = count_greater_5 / len(output)\n",
    "\n",
    "# Print the results\n",
    "print(\"Probability of getting a sum greater than 5:\", prob)\n"
   ]
  },
  {
   "cell_type": "markdown",
   "id": "02528065",
   "metadata": {},
   "source": [
    "You may use it as you wish to solve the exercise. Or you can just ignore it and use pencil and pen to solve. It is up to you! **You will only save your final answer**. \n",
    "\n",
    "### 3.2 Solving using simulations in Python\n",
    "\n",
    "Let's solve this question in both ways. First, using Python. You may check the ungraded lab Dice Simulations that appears right before this assignment to help you simulate dice throws. Remember that, to get a good approximation, you need to simulate it a lot of times! You will see why this is true in the following weeks, but this is quite intuitive."
   ]
  },
  {
   "cell_type": "code",
   "execution_count": 7,
   "id": "309a3457",
   "metadata": {},
   "outputs": [
    {
     "name": "stdout",
     "output_type": "stream",
     "text": [
      "The probability by this simulation is: 0.72191\n"
     ]
    }
   ],
   "source": [
    "# You can use this cell for your calculations (not graded)\n",
    "\n",
    "# This list represents each dice side\n",
    "dice = [1,2,3,4,5,6]\n",
    "\n",
    "# The idea is to randomly choose one element from this list three times and sum them. \n",
    "# Each time we choose, it is as if we had thrown a dice and the side is the chosen number.\n",
    "# This list will store the sum for each iteration. The idea is to repeat this experiment several times.\n",
    "sum_results = []\n",
    "\n",
    "number_iterations = 200_000\n",
    "\n",
    "# Setting a random seed just for reproducibility\n",
    "np.random.seed(42)\n",
    "# It will play this game number_iteration times\n",
    "for i in range(number_iterations):\n",
    "    # Throw the first dice\n",
    "    throw_1 = np.random.choice(dice)\n",
    "    # Throw the second dice\n",
    "    throw_2 = np.random.choice(dice)\n",
    "    # Sum the result\n",
    "    sum_throw = throw_1 + throw_2\n",
    "    # Append to the sum_result list\n",
    "    sum_results.append(sum_throw)\n",
    "\n",
    "# After recording all the sums, the actual probability will be very close to the proportion among every sum greater than 10 in the sum_results list.\n",
    "greater_5_count = 0\n",
    "\n",
    "for x in sum_results:\n",
    "    if x > 5:\n",
    "        greater_5_count += 1\n",
    "\n",
    "probability = greater_5_count/len(sum_results)    \n",
    "print(f\"The probability by this simulation is: {probability}\")"
   ]
  },
  {
   "cell_type": "markdown",
   "id": "37524317",
   "metadata": {},
   "source": [
    "So the result you would get, rounding in to decimal place, would be 0.7! Let's solve it \"by hand\".\n",
    "\n",
    "### 3.3 Solving using the theory\n",
    "\n",
    "When throwing two dice, there are $36$ possible outcomes:\n",
    "\n",
    "$$(1,1), (1,2), \\ldots, (6,6)$$\n",
    "\n",
    "You must count how many of them lead to a sum greater than 5. They are:\n",
    "\n",
    "* If the first throw is $1$, there are $2$ possibilities for the second throw: 5 or 6.\n",
    "* If the first throw is $2$, there are $3$ possibilities for the second throw: 4, 5 or 6.\n",
    "* If the first throw is $3$, there are $4$ possibilities for the second throw: 3, 4, 5 or 6.\n",
    "* If the first throw is $4$, there are $5$ possibilities for the second throw: 2, 3, 4, 5 or 6.\n",
    "* If the first throw is $5$, there are $6$ possibilities for the second throw: 1, 2, 3, 4, 5 or 6.\n",
    "* If the first throw is $6$, there are $6$ possibilities for the second throw: 1, 2, 3, 4, 5 or 6.\n",
    "\n",
    "So, in total there are $2 + 3 + 4 + 5 + 6 + 6 = 26$, possibilities that sum greater than 5.\n",
    "\n",
    "The probability is then $\\frac{26}{36} \\approx 0.72$. Rounding it to 1 decimal place, the result is also 0.7!\n"
   ]
  },
  {
   "cell_type": "markdown",
   "id": "29b9f3ed",
   "metadata": {},
   "source": [
    "### 3.4 Saving your answer\n",
    "\n",
    "Once you get your answer in hands, it is time to save it. Run the next code below to see what it will look like. You just add your answer as requested and click on \"Save your answer!\""
   ]
  },
  {
   "cell_type": "code",
   "execution_count": 2,
   "id": "38539358",
   "metadata": {},
   "outputs": [
    {
     "data": {
      "application/vnd.jupyter.widget-view+json": {
       "model_id": "1d559e36495a45fdb210d88cf35f9c1b",
       "version_major": 2,
       "version_minor": 0
      },
      "text/plain": [
       "FloatText(value=0.0, description='Probability:')"
      ]
     },
     "metadata": {},
     "output_type": "display_data"
    },
    {
     "data": {
      "application/vnd.jupyter.widget-view+json": {
       "model_id": "cded9a49584a437097c102c4e0c31a54",
       "version_major": 2,
       "version_minor": 0
      },
      "text/plain": [
       "Button(button_style='success', description='Save your answer!', style=ButtonStyle())"
      ]
     },
     "metadata": {},
     "output_type": "display_data"
    },
    {
     "data": {
      "application/vnd.jupyter.widget-view+json": {
       "model_id": "676832ec72d542f1bc4a4e7edd005645",
       "version_major": 2,
       "version_minor": 0
      },
      "text/plain": [
       "Output()"
      ]
     },
     "metadata": {},
     "output_type": "display_data"
    }
   ],
   "source": [
    "utils.exercise_example()"
   ]
  },
  {
   "cell_type": "markdown",
   "id": "73d4776c",
   "metadata": {},
   "source": [
    "And that's it! Once you save one question, you can go to the next one. If you want to change your solution, just run the code again and input the new solution, it will overwrite the previous one. At the end of the assignment, you will be able to check if you have forgotten to save any question. \n",
    "\n",
    "Once you finish the assignment, you may submit it as you usually would. Your most recently save answers to each exercise will then be graded."
   ]
  },
  {
   "cell_type": "markdown",
   "id": "4546a127",
   "metadata": {},
   "source": [
    "## 4 - Some concept clarifications 🎲🎲🎲\n",
    "\n",
    "During this assignment you will be presented with various scenarios that involve dice. Usually dice can have different numbers of sides and can be either fair or loaded.\n",
    "\n",
    "- A fair dice has equal probability of landing on every side.\n",
    "- A loaded dice does not have equal probability of landing on every side. Usually one (or more) sides have a greater probability of showing up than the rest.\n",
    "\n",
    "Alright, that's all your need to know to complete this assignment. Time to start rolling some dice!"
   ]
  },
  {
   "cell_type": "markdown",
   "id": "c8f09f02",
   "metadata": {},
   "source": [
    "## Exercise 1:\n",
    "\n"
   ]
  },
  {
   "cell_type": "markdown",
   "id": "3510c610",
   "metadata": {},
   "source": [
    "Given a 6-sided fair dice (all of the sides have equal probability of showing up), compute the mean and variance for the probability distribution that models said dice. The next figure shows you a visual represenatation of said distribution:\n",
    "\n",
    "<img src=\"./images/fair_dice.png\" style=\"height: 300px;\"/>\n",
    "\n",
    "**Submission considerations:**\n",
    "- Submit your answers as floating point numbers with three digits after the decimal point\n",
    "- Example: To submit the value of 1/4 enter 0.250"
   ]
  },
  {
   "cell_type": "markdown",
   "id": "5ee9b479",
   "metadata": {},
   "source": [
    "Hints: \n",
    "- You can use [np.random.choice](https://numpy.org/doc/stable/reference/random/generated/numpy.random.choice.html) to simulate a fair dice.\n",
    "- You can use [np.mean](https://numpy.org/doc/stable/reference/generated/numpy.mean.html) and [np.var](https://numpy.org/doc/stable/reference/generated/numpy.var.html) to compute the mean and variance of a numpy array."
   ]
  },
  {
   "cell_type": "code",
   "execution_count": 2,
   "id": "f40bfb57",
   "metadata": {},
   "outputs": [
    {
     "name": "stdout",
     "output_type": "stream",
     "text": [
      "The mean is: 3.500\n",
      "The variance is: 2.917\n"
     ]
    }
   ],
   "source": [
    "# Define the sides of the fair 6-sided dice\n",
    "sides = [1, 2, 3, 4, 5, 6]\n",
    "\n",
    "# Calculate the mean\n",
    "mean = sum(sides) / len(sides)\n",
    "\n",
    "# Calculate the variance\n",
    "variance = sum((x - mean) ** 2 for x in sides) / len(sides)\n",
    "\n",
    "print(f\"The mean is: {mean:.3f}\")\n",
    "print(f\"The variance is: {variance:.3f}\")"
   ]
  },
  {
   "cell_type": "code",
   "execution_count": 11,
   "id": "e0806a39",
   "metadata": {},
   "outputs": [
    {
     "name": "stdout",
     "output_type": "stream",
     "text": [
      "Mean: 3.500\n",
      "Variance: 2.917\n"
     ]
    }
   ],
   "source": [
    "# Simulate rolling the fair 6-sided dice 100,000 times\n",
    "np.random.seed(42)\n",
    "num_rolls = 100_000_000\n",
    "rolls = np.random.choice(np.arange(1, 7), size=num_rolls)\n",
    "\n",
    "# Compute the mean and variance of the outcomes\n",
    "mean = np.mean(rolls)\n",
    "variance = np.var(rolls)\n",
    "\n",
    "print(f\"Mean: {mean:.3f}\")\n",
    "print(f\"Variance: {variance:.3f}\")"
   ]
  },
  {
   "cell_type": "code",
   "execution_count": null,
   "id": "df437e8e",
   "metadata": {},
   "outputs": [],
   "source": [
    "# Slowest Code (cause of the loop I guess)\n",
    "np.random.seed(42)\n",
    "dice = np.array([i for i in range(1,7)])\n",
    "num_rolls = 100_000_000\n",
    "output = []\n",
    "\n",
    "for i in range(num_rolls+1):\n",
    "    roll = np.random.choice(dice)\n",
    "    output.append(roll)\n",
    "\n",
    "mean = np.mean(output)\n",
    "var = np.var(output)\n",
    "\n",
    "print(f\"The mean is: {mean:.3f}\")\n",
    "print(f\"The variance is: {var:.3f}\")"
   ]
  },
  {
   "cell_type": "code",
   "execution_count": 3,
   "id": "db9477e7",
   "metadata": {},
   "outputs": [
    {
     "data": {
      "application/vnd.jupyter.widget-view+json": {
       "model_id": "4f8ae90eb49f4cea99da3c3195aaae7e",
       "version_major": 2,
       "version_minor": 0
      },
      "text/plain": [
       "FloatText(value=0.0, description='Mean:')"
      ]
     },
     "metadata": {},
     "output_type": "display_data"
    },
    {
     "data": {
      "application/vnd.jupyter.widget-view+json": {
       "model_id": "0b887a496e474357b2172e02caad1220",
       "version_major": 2,
       "version_minor": 0
      },
      "text/plain": [
       "FloatText(value=0.0, description='Variance:')"
      ]
     },
     "metadata": {},
     "output_type": "display_data"
    },
    {
     "data": {
      "application/vnd.jupyter.widget-view+json": {
       "model_id": "a9682aae61ce4b36b4f942adf447251f",
       "version_major": 2,
       "version_minor": 0
      },
      "text/plain": [
       "Button(button_style='success', description='Save your answer!', style=ButtonStyle())"
      ]
     },
     "metadata": {},
     "output_type": "display_data"
    },
    {
     "data": {
      "application/vnd.jupyter.widget-view+json": {
       "model_id": "4d6acbe7f8f54d4f8c0ddfa2798111ba",
       "version_major": 2,
       "version_minor": 0
      },
      "text/plain": [
       "Output()"
      ]
     },
     "metadata": {},
     "output_type": "display_data"
    }
   ],
   "source": [
    "# Run this cell to submit your answer\n",
    "utils.exercise_1()"
   ]
  },
  {
   "cell_type": "markdown",
   "id": "d43dcbbd",
   "metadata": {},
   "source": [
    "## Exercise 2:\n",
    "\n",
    "Now suppose you are throwing the dice (same dice as in the previous exercise) two times and recording the sum of each throw. Which of the following `probability mass functions` will be the one you should get?\n",
    "\n",
    "<table><tr>\n",
    "<td> <img src=\"./images/hist_sum_6_side.png\" style=\"height: 300px;\"/> </td>\n",
    "<td> <img src=\"./images/hist_sum_5_side.png\" style=\"height: 300px;\"/> </td>\n",
    "<td> <img src=\"./images/hist_sum_6_uf.png\" style=\"height: 300px;\"/> </td>\n",
    "</tr></table>\n"
   ]
  },
  {
   "cell_type": "markdown",
   "id": "605c58c0",
   "metadata": {},
   "source": [
    "Hints: \n",
    "- You can use numpy arrays to hold the results of many throws.\n",
    "- You can sum to numpy arrays by using the `+` operator like this: `sum = first_throw + second_throw`\n",
    "- To simulate multiple throws of a dice you can use list comprehension or a for loop"
   ]
  },
  {
   "cell_type": "code",
   "execution_count": 28,
   "id": "e9a8b2ed",
   "metadata": {},
   "outputs": [
    {
     "data": {
      "image/png": "[encoded data removed]",
      "text/plain": [
       "<Figure size 640x480 with 1 Axes>"
      ]
     },
     "metadata": {},
     "output_type": "display_data"
    }
   ],
   "source": [
    "import numpy as np\n",
    "import seaborn as sns\n",
    "import matplotlib.pyplot as plt\n",
    "\n",
    "# Set random seed for reproducibility\n",
    "np.random.seed(42)\n",
    "\n",
    "# Number of rolls\n",
    "num_rolls = 500_000\n",
    "\n",
    "# Simulate the rolls of two six-sided dice\n",
    "roll_1 = np.random.choice(np.arange(1, 7), size=num_rolls)\n",
    "roll_2 = np.random.choice(np.arange(1, 7), size=num_rolls)\n",
    "\n",
    "# Sum of the two dice rolls\n",
    "sum_rolls = roll_1 + roll_2\n",
    "\n",
    "# Plot the distribution of the sums of the dice rolls with probabilities\n",
    "hist = sns.histplot(sum_rolls, bins=np.arange(1.5, 13.5, 1), stat='probability', kde=False)\n",
    "plt.xticks(range(2, 14, 1))\n",
    "plt.xlim(0, 14)\n",
    "plt.xlabel('Sum of Rolls')\n",
    "plt.ylabel('Probability')\n",
    "plt.title('Distribution of the Sum of Two Dice Rolls (Probability)')\n",
    "\n",
    "# Adjust the width of the bars\n",
    "for patch in hist.patches:\n",
    "    current_width = patch.get_width()\n",
    "    diff = current_width - 0.8\n",
    "    # we change the bar width\n",
    "    patch.set_width(0.8)\n",
    "    # we recenter the bar\n",
    "    patch.set_x(patch.get_x() + diff * .5)\n",
    "\n",
    "plt.show()\n"
   ]
  },
  {
   "cell_type": "code",
   "execution_count": 4,
   "id": "d4d5dcf9",
   "metadata": {},
   "outputs": [
    {
     "data": {
      "application/vnd.jupyter.widget-view+json": {
       "model_id": "5be86a3da3f4496f92272126ccc3a33d",
       "version_major": 2,
       "version_minor": 0
      },
      "text/plain": [
       "ToggleButtons(description='Your answer:', options=('left', 'center', 'right'), value='left')"
      ]
     },
     "metadata": {},
     "output_type": "display_data"
    },
    {
     "data": {
      "application/vnd.jupyter.widget-view+json": {
       "model_id": "4da73c8c52f748329dbc7f8cb94692c7",
       "version_major": 2,
       "version_minor": 0
      },
      "text/plain": [
       "Button(button_style='success', description='Save your answer!', style=ButtonStyle())"
      ]
     },
     "metadata": {},
     "output_type": "display_data"
    },
    {
     "data": {
      "application/vnd.jupyter.widget-view+json": {
       "model_id": "066b795da14c47238ae28952b3b2fe03",
       "version_major": 2,
       "version_minor": 0
      },
      "text/plain": [
       "Output()"
      ]
     },
     "metadata": {},
     "output_type": "display_data"
    }
   ],
   "source": [
    "# Run this cell to submit your answer\n",
    "utils.exercise_2()"
   ]
  },
  {
   "cell_type": "markdown",
   "id": "adfb889c",
   "metadata": {},
   "source": [
    "## Exercise 3:\n",
    "\n",
    "Given a fair 4-sided dice, you throw it two times and record the sum. The figure on the left shows the probabilities of the dice landing on each side and the right figure the histogram of the sum. Fill out the probabilities of each sum (notice that the distribution of the sum is symetrical so you only need to input 4 values in total):\n",
    "\n",
    "<img src=\"./images/4_side_hists.png\" style=\"height: 300px;\"/>\n",
    "\n",
    "**Submission considerations:**\n",
    "- Submit your answers as floating point numbers with three digits after the decimal point\n",
    "- Example: To submit the value of 1/4 enter 0.250"
   ]
  },
  {
   "cell_type": "code",
   "execution_count": 36,
   "id": "342ca685",
   "metadata": {},
   "outputs": [
    {
     "name": "stdout",
     "output_type": "stream",
     "text": [
      "The Probability for sum=2 given sum= 8 is: 0.0629331744613246\n",
      "The Probability for sum=3 given sum= 7 is: 0.12628597734278052\n",
      "The Probability for sum=4 given sum= 6 is: 0.1873221561685926\n",
      "The Probability for sum=5 is: 0.25000625\n"
     ]
    }
   ],
   "source": [
    "np.random.seed(42)\n",
    "\n",
    "def probability(num_rolls, n):\n",
    "    \n",
    "    np.random.seed(42)\n",
    "    count_sum_n = 0\n",
    "    \n",
    "    for _ in range(num_rolls):\n",
    "        roll_1 = np.random.choice(np.arange(1, 5))\n",
    "        roll_2 = np.random.choice(np.arange(1, 5))\n",
    "        total = roll_1 + roll_2\n",
    "        \n",
    "        if total == n:\n",
    "            count_sum_n += 1\n",
    "    \n",
    "    prob_sum = count_sum_n / num_rolls\n",
    "    \n",
    "    return prob_sum\n",
    "\n",
    "def conditional_probability(num_rolls, n, k):\n",
    "    \n",
    "    np.random.seed(10)\n",
    "    count_sum_k = 0\n",
    "    count_sum_n_and_k = 0\n",
    "    \n",
    "    for _ in range(num_rolls):\n",
    "\n",
    "        roll_1 = np.random.choice(np.arange(1, 5))\n",
    "        roll_2 = np.random.choice(np.arange(1, 5))\n",
    "        total = roll_1 + roll_2\n",
    "        \n",
    "        if total == k:\n",
    "            count_sum_k += 1\n",
    "            \n",
    "            roll_1 = np.random.choice(np.arange(1, 5))\n",
    "            roll_2 = np.random.choice(np.arange(1, 5))\n",
    "            total = roll_1 + roll_2\n",
    "            \n",
    "            if total == n:\n",
    "                count_sum_n_and_k +=1\n",
    "                \n",
    "    \n",
    "    if count_sum_k != 0:  # Avoid division by zero\n",
    "        cond_prob_n_given_k = count_sum_n_and_k / count_sum_k\n",
    "    else:\n",
    "        cond_prob_n_given_k = 0\n",
    "            \n",
    "    return cond_prob_n_given_k   \n",
    "\n",
    "print(f\"The Probability for sum=2 given sum= 8 is: {conditional_probability(800000, 2, 8)}\")\n",
    "print(f\"The Probability for sum=3 given sum= 7 is: {conditional_probability(800000, 3, 7)}\")\n",
    "print(f\"The Probability for sum=4 given sum= 6 is: {conditional_probability(800000, 4, 6)}\")\n",
    "print(f\"The Probability for sum=5 is: {probability(800000, 5)}\")\n"
   ]
  },
  {
   "cell_type": "code",
   "execution_count": 2,
   "id": "e0a24beb",
   "metadata": {},
   "outputs": [
    {
     "data": {
      "application/vnd.jupyter.widget-view+json": {
       "model_id": "f5fc9103c1f141ad8a7b0c47b7f4c14b",
       "version_major": 2,
       "version_minor": 0
      },
      "text/plain": [
       "FloatText(value=0.0, description='P for sum=2|8', style=DescriptionStyle(description_width='initial'))"
      ]
     },
     "metadata": {},
     "output_type": "display_data"
    },
    {
     "data": {
      "application/vnd.jupyter.widget-view+json": {
       "model_id": "6a2014f528d24ac2ace3bf78c3553a55",
       "version_major": 2,
       "version_minor": 0
      },
      "text/plain": [
       "FloatText(value=0.0, description='P for sum=3|7:', style=DescriptionStyle(description_width='initial'))"
      ]
     },
     "metadata": {},
     "output_type": "display_data"
    },
    {
     "data": {
      "application/vnd.jupyter.widget-view+json": {
       "model_id": "48c8caf3e74a4d92b4bb26558382ef63",
       "version_major": 2,
       "version_minor": 0
      },
      "text/plain": [
       "FloatText(value=0.0, description='P for sum=4|6:', style=DescriptionStyle(description_width='initial'))"
      ]
     },
     "metadata": {},
     "output_type": "display_data"
    },
    {
     "data": {
      "application/vnd.jupyter.widget-view+json": {
       "model_id": "c8cd6d720eee43de8f584eccc6f079d3",
       "version_major": 2,
       "version_minor": 0
      },
      "text/plain": [
       "FloatText(value=0.0, description='P for sum=5:', style=DescriptionStyle(description_width='initial'))"
      ]
     },
     "metadata": {},
     "output_type": "display_data"
    },
    {
     "data": {
      "application/vnd.jupyter.widget-view+json": {
       "model_id": "8442aec7a63f4703962f00f07dbe8bee",
       "version_major": 2,
       "version_minor": 0
      },
      "text/plain": [
       "Button(button_style='success', description='Save your answer!', style=ButtonStyle())"
      ]
     },
     "metadata": {},
     "output_type": "display_data"
    },
    {
     "data": {
      "application/vnd.jupyter.widget-view+json": {
       "model_id": "c9f4c01eecf546fdb8cffdc2958fc834",
       "version_major": 2,
       "version_minor": 0
      },
      "text/plain": [
       "Output()"
      ]
     },
     "metadata": {},
     "output_type": "display_data"
    }
   ],
   "source": [
    "# Run this cell to submit your answer\n",
    "utils.exercise_3()"
   ]
  },
  {
   "cell_type": "markdown",
   "id": "108837bd",
   "metadata": {},
   "source": [
    "## Exercise 4:\n",
    "\n",
    "Using the same scenario as in the previous exercise. Compute the mean and variance of the sum of the two throws  and the covariance between the first and the second throw:\n",
    "\n",
    "<img src=\"./images/4_sided_hist_no_prob.png\" style=\"height: 300px;\"/>\n",
    "\n",
    "\n",
    "Hints:\n",
    "- You can use [np.cov](https://numpy.org/doc/stable/reference/generated/numpy.cov.html) to compute the covariance of two numpy arrays (this may not be needed for this particular exercise)."
   ]
  },
  {
   "cell_type": "code",
   "execution_count": 41,
   "id": "5d5c6dfe",
   "metadata": {},
   "outputs": [
    {
     "name": "stdout",
     "output_type": "stream",
     "text": [
      "5.0\n",
      "2.5\n",
      "0\n"
     ]
    }
   ],
   "source": [
    "num_rolls = 10_000\n",
    "\n",
    "\n",
    "roll_1 = np.array(range(1,5))\n",
    "roll_2 = np.array(range(1,5))\n",
    "\n",
    "mean_roll_1 = np.mean(roll_1)\n",
    "mean_roll_2 = np.mean(roll_2)\n",
    "sum_mean = mean_roll_1 + mean_roll_2\n",
    "\n",
    "var_roll_1 = np.var(roll_1)\n",
    "var_roll_2 = np.var(roll_2)\n",
    "sum_var = var_roll_1 + var_roll_2\n",
    "\n",
    "cov = 0 #Since roll_1 and roll_2 are independent events.\n",
    "\n",
    "print(sum_mean)\n",
    "print(sum_var)\n",
    "print(cov)"
   ]
  },
  {
   "cell_type": "code",
   "execution_count": 3,
   "id": "4e662b9b",
   "metadata": {},
   "outputs": [
    {
     "data": {
      "application/vnd.jupyter.widget-view+json": {
       "model_id": "fde6ddfb22bf42c5b4530d5415923a7f",
       "version_major": 2,
       "version_minor": 0
      },
      "text/plain": [
       "FloatText(value=0.0, description='Mean:')"
      ]
     },
     "metadata": {},
     "output_type": "display_data"
    },
    {
     "data": {
      "application/vnd.jupyter.widget-view+json": {
       "model_id": "9040f2b855104876863d49725b9e45c7",
       "version_major": 2,
       "version_minor": 0
      },
      "text/plain": [
       "FloatText(value=0.0, description='Variance:')"
      ]
     },
     "metadata": {},
     "output_type": "display_data"
    },
    {
     "data": {
      "application/vnd.jupyter.widget-view+json": {
       "model_id": "990e99fc90804dc4b3f8ff0c1aad5e01",
       "version_major": 2,
       "version_minor": 0
      },
      "text/plain": [
       "FloatText(value=0.0, description='Covariance:')"
      ]
     },
     "metadata": {},
     "output_type": "display_data"
    },
    {
     "data": {
      "application/vnd.jupyter.widget-view+json": {
       "model_id": "668306d9b9254238ad9ad6cce93ad6aa",
       "version_major": 2,
       "version_minor": 0
      },
      "text/plain": [
       "Button(button_style='success', description='Save your answer!', style=ButtonStyle())"
      ]
     },
     "metadata": {},
     "output_type": "display_data"
    },
    {
     "data": {
      "application/vnd.jupyter.widget-view+json": {
       "model_id": "d47d0368c31d460d942329b3ffee2ed9",
       "version_major": 2,
       "version_minor": 0
      },
      "text/plain": [
       "Output()"
      ]
     },
     "metadata": {},
     "output_type": "display_data"
    }
   ],
   "source": [
    "# Run this cell to submit your answer\n",
    "utils.exercise_4()"
   ]
  },
  {
   "cell_type": "markdown",
   "id": "714e099b",
   "metadata": {},
   "source": [
    "## Exercise 5:\n",
    "\n",
    "\n",
    "Now suppose you are have a loaded 4-sided dice (it is loaded so that it lands twice as often on side 2 compared to the other sides): \n",
    "\n",
    "\n",
    "<img src=\"./images/4_side_uf.png\" style=\"height: 300px;\"/>\n",
    "\n",
    "You are throwing it two times and recording the sum of each throw. Which of the following `probability mass functions` will be the one you should get?\n",
    "\n",
    "<table><tr>\n",
    "<td> <img src=\"./images/hist_sum_4_4l.png\" style=\"height: 300px;\"/> </td>\n",
    "<td> <img src=\"./images/hist_sum_4_3l.png\" style=\"height: 300px;\"/> </td>\n",
    "<td> <img src=\"./images/hist_sum_4_uf.png\" style=\"height: 300px;\"/> </td>\n",
    "</tr></table>"
   ]
  },
  {
   "cell_type": "markdown",
   "id": "ecb27c1b",
   "metadata": {},
   "source": [
    "Hints: \n",
    "- You can use the `p` parameter of [np.random.choice](https://numpy.org/doc/stable/reference/random/generated/numpy.random.choice.html) to simulate a loaded dice."
   ]
  },
  {
   "cell_type": "code",
   "execution_count": 114,
   "id": "a35573ec",
   "metadata": {},
   "outputs": [
    {
     "data": {
      "image/png": "[encoded data removed]",
      "text/plain": [
       "<Figure size 640x480 with 1 Axes>"
      ]
     },
     "metadata": {},
     "output_type": "display_data"
    }
   ],
   "source": [
    "# You can use this cell for your calculations (not graded)\n",
    "\n",
    "num_rolls = 10_000\n",
    "probs = [0.2, 0.4, 0.2, 0.2]\n",
    "roll_1 = np.random.choice(np.arange(1,5), p=probs, size=num_rolls)\n",
    "roll_2 = np.random.choice(np.arange(1,5), p=probs, size=num_rolls)\n",
    "sum_rolls = roll_1 + roll_2\n",
    "\n",
    "sns.histplot(sum_rolls, stat='probability', bins=np.arange(1.5,9.5,1), color='skyblue')\n",
    "plt.xlabel('Sum of Rolls')\n",
    "plt.ylabel('Probability')\n",
    "plt.show()"
   ]
  },
  {
   "cell_type": "code",
   "execution_count": 110,
   "id": "3104e647",
   "metadata": {},
   "outputs": [
    {
     "data": {
      "application/vnd.jupyter.widget-view+json": {
       "model_id": "17d681571b324757828d02d4f91bd8f3",
       "version_major": 2,
       "version_minor": 0
      },
      "text/plain": [
       "ToggleButtons(description='Your answer:', options=('left', 'center', 'right'), value='left')"
      ]
     },
     "metadata": {},
     "output_type": "display_data"
    },
    {
     "data": {
      "application/vnd.jupyter.widget-view+json": {
       "model_id": "514de602b00b4dd58ed9ce299ab7b3df",
       "version_major": 2,
       "version_minor": 0
      },
      "text/plain": [
       "Button(button_style='success', description='Save your answer!', style=ButtonStyle())"
      ]
     },
     "metadata": {},
     "output_type": "display_data"
    },
    {
     "data": {
      "application/vnd.jupyter.widget-view+json": {
       "model_id": "76078bc909194dbda391d06e8d4324d4",
       "version_major": 2,
       "version_minor": 0
      },
      "text/plain": [
       "Output()"
      ]
     },
     "metadata": {},
     "output_type": "display_data"
    }
   ],
   "source": [
    "# Run this cell to submit your answer\n",
    "utils.exercise_5()"
   ]
  },
  {
   "cell_type": "markdown",
   "id": "0d0f3429",
   "metadata": {},
   "source": [
    "## Exercise 6:\n",
    "\n",
    "You have a 6-sided dice that is loaded so that it lands twice as often on side 3 compared to the other sides:\n",
    "\n",
    "<img src=\"./images/loaded_6_side.png\" style=\"height: 300px;\"/>\n",
    "\n",
    "You record the sum of throwing it twice. What is the highest value (of the sum) that will yield a cumulative probability lower or equal to 0.5?\n",
    "\n",
    "<img src=\"./images/loaded_6_cdf.png\" style=\"height: 300px;\"/>\n",
    "\n",
    "Hints:\n",
    "- The probability of side 3 is equal to $\\frac{2}{7}$"
   ]
  },
  {
   "cell_type": "code",
   "execution_count": 61,
   "id": "10feaaa8",
   "metadata": {},
   "outputs": [
    {
     "name": "stdout",
     "output_type": "stream",
     "text": [
      "Sum_rolls:  [6 8 7 ... 8 9 7]\n",
      "Prob_sum_rolls:  [0.0204237 0.0408168 0.102093  0.122302  0.1632745 0.1630891 0.1429361\n",
      " 0.122413  0.0613189 0.0408125 0.0205204]\n",
      "Unique_sums:  [ 2  3  4  5  6  7  8  9 10 11 12]\n",
      "Counts:  [ 204237  408168 1020930 1223020 1632745 1630891 1429361 1224130  613189\n",
      "  408125  205204]\n",
      "Cum_sum:  [  204237   612405  1633335  2856355  4489100  6119991  7549352  8773482\n",
      "  9386671  9794796 10000000]\n",
      "Cum_prob:  [0.0204237 0.0612405 0.1633335 0.2856355 0.44891   0.6119991 0.7549352\n",
      " 0.8773482 0.9386671 0.9794796 1.       ]\n",
      "Highest_sum_index:  4\n",
      "highest_sum:  6\n"
     ]
    }
   ],
   "source": [
    "# You can use this cell for your calculations (not graded)\n",
    "np.random.seed(1)\n",
    "num_rolls = 10000000\n",
    "probs = [1/7, 1/7, 2/7, 1/7, 1/7, 1/7]\n",
    "roll_1 = np.random.choice(np.arange(1,7), size=num_rolls, p=probs)\n",
    "roll_2 = np.random.choice(np.arange(1,7), size=num_rolls, p=probs)\n",
    "sum_rolls = roll_1 + roll_2\n",
    "\n",
    "\n",
    "unique_sums, counts = np.unique(sum_rolls, return_counts=True)\n",
    "prob_sum_rolls = counts/ np.sum(counts)\n",
    "cum_sum = np.cumsum(counts)\n",
    "cum_prob = cum_sum / num_rolls\n",
    "highest_sum_index = (0.5 - cum_prob[cum_prob <=.5]).argmin()\n",
    "highest_sum = unique_sums[highest_sum_index]\n",
    "\n",
    "print('Sum_rolls: ', sum_rolls)\n",
    "print('Prob_sum_rolls: ', prob_sum_rolls)\n",
    "print('Unique_sums: ', unique_sums)\n",
    "print('Counts: ', counts)\n",
    "print('Cum_sum: ', np.cumsum(counts))\n",
    "print('Cum_prob: ', cum_prob)\n",
    "print('Highest_sum_index: ',highest_sum_index)\n",
    "print('highest_sum: ', highest_sum)\n"
   ]
  },
  {
   "cell_type": "code",
   "execution_count": 31,
   "id": "85ec5a50",
   "metadata": {},
   "outputs": [
    {
     "name": "stdout",
     "output_type": "stream",
     "text": [
      "Index of the maximum value: 3\n",
      "Maximum value: 5\n"
     ]
    }
   ],
   "source": [
    "arr = np.array([1, 3, 2, 5, 4])\n",
    "\n",
    "# Find the index of the maximum value\n",
    "index_of_max = np.argmax(arr)\n",
    "\n",
    "print(\"Index of the maximum value:\", index_of_max)\n",
    "print(\"Maximum value:\", arr[index_of_max])"
   ]
  },
  {
   "cell_type": "code",
   "execution_count": 7,
   "id": "963e5763",
   "metadata": {},
   "outputs": [
    {
     "data": {
      "application/vnd.jupyter.widget-view+json": {
       "model_id": "057a4b6fcf4c4107b885e5d66d111fae",
       "version_major": 2,
       "version_minor": 0
      },
      "text/plain": [
       "IntSlider(value=2, continuous_update=False, description='Sum:', max=12, min=2)"
      ]
     },
     "metadata": {},
     "output_type": "display_data"
    },
    {
     "data": {
      "application/vnd.jupyter.widget-view+json": {
       "model_id": "ffd2be98340f46a8b2a5a425d8dfb5ba",
       "version_major": 2,
       "version_minor": 0
      },
      "text/plain": [
       "Button(button_style='success', description='Save your answer!', style=ButtonStyle())"
      ]
     },
     "metadata": {},
     "output_type": "display_data"
    },
    {
     "data": {
      "application/vnd.jupyter.widget-view+json": {
       "model_id": "af27ecde095f4d8c96f872f2247e8a17",
       "version_major": 2,
       "version_minor": 0
      },
      "text/plain": [
       "Output()"
      ]
     },
     "metadata": {},
     "output_type": "display_data"
    }
   ],
   "source": [
    "# Run this cell to submit your answer\n",
    "utils.exercise_6()"
   ]
  },
  {
   "cell_type": "markdown",
   "id": "f6684426",
   "metadata": {},
   "source": [
    "## Exercise 7:\n",
    "\n",
    "Given a 6-sided fair dice you try a new game. You only throw the dice a second time if the result of the first throw is **lower** or equal to 3. Which of the following `probability mass functions` will be the one you should get given this new constraint?\n",
    "\n",
    "<table><tr>\n",
    "<td> <img src=\"./images/6_sided_cond_green.png\" style=\"height: 250px;\"/> </td>\n",
    "<td> <img src=\"./images/6_sided_cond_blue.png\" style=\"height: 250px;\"/> </td>\n",
    "<td> <img src=\"./images/6_sided_cond_red.png\" style=\"height: 250px;\"/> </td>\n",
    "<td> <img src=\"./images/6_sided_cond_brown.png\" style=\"height: 250px;\"/> </td>\n",
    "\n",
    "</tr></table>\n",
    "\n",
    "Hints:\n",
    "- You can simulate the second throws as a numpy array and then make the values that met a certain criteria equal to 0 by using [np.where](https://numpy.org/doc/stable/reference/generated/numpy.where.html)"
   ]
  },
  {
   "cell_type": "code",
   "execution_count": 12,
   "id": "9e64d178",
   "metadata": {},
   "outputs": [
    {
     "name": "stdout",
     "output_type": "stream",
     "text": [
      "[2 3 4 5 6 7 8 9]\n"
     ]
    },
    {
     "data": {
      "image/png": "[encoded data removed]",
      "text/plain": [
       "<Figure size 640x480 with 1 Axes>"
      ]
     },
     "metadata": {},
     "output_type": "display_data"
    }
   ],
   "source": [
    "num_rolls = 100000\n",
    "\n",
    "count_roll_1 = []\n",
    "count_roll_2 = []\n",
    "sum_rolls = []\n",
    "\n",
    "for _ in range(num_rolls):\n",
    "    roll_1 = np.random.choice(np.arange(1,7))\n",
    "    count_roll_1.append(roll_1)\n",
    "    #print('roll_1',roll_1)\n",
    "    if roll_1 <= 3:\n",
    "        roll_2 = np.random.choice(np.arange(1,7))\n",
    "        count_roll_2.append(roll_2)\n",
    "        #print('roll_2',roll_2)\n",
    "        total = roll_1 + roll_2\n",
    "        sum_rolls.append(total)\n",
    "    else: \n",
    "        total = roll_1\n",
    "        sum_rolls.append(total)\n",
    "\n",
    "#print(count_roll_1)\n",
    "#print(count_roll_2)\n",
    "#print(sum_rolls)\n",
    "\n",
    "unique_sum_rolls = np.unique(sum_rolls,)\n",
    "print(unique_sum_rolls)\n",
    "sns.histplot(sum_rolls, stat='probability', bins=np.arange(1.5,12.5,1))\n",
    "plt.xticks(range(0,13,1))\n",
    "plt.xlabel('Sum of Rolls')\n",
    "plt.ylabel('Probability')\n",
    "plt.show()"
   ]
  },
  {
   "cell_type": "code",
   "execution_count": 9,
   "id": "82a4db40",
   "metadata": {},
   "outputs": [
    {
     "data": {
      "application/vnd.jupyter.widget-view+json": {
       "model_id": "7124a232f20b4c52a2b23e840eb8a39e",
       "version_major": 2,
       "version_minor": 0
      },
      "text/plain": [
       "ToggleButtons(description='Your answer:', options=('left-most', 'left-center', 'right-center', 'right-most'), …"
      ]
     },
     "metadata": {},
     "output_type": "display_data"
    },
    {
     "data": {
      "application/vnd.jupyter.widget-view+json": {
       "model_id": "784e79afea9c48ba9451fc6e3020f6c5",
       "version_major": 2,
       "version_minor": 0
      },
      "text/plain": [
       "Button(button_style='success', description='Save your answer!', style=ButtonStyle())"
      ]
     },
     "metadata": {},
     "output_type": "display_data"
    },
    {
     "data": {
      "application/vnd.jupyter.widget-view+json": {
       "model_id": "f2b05fe1852c41f2a6ad7d8b6da1b8f1",
       "version_major": 2,
       "version_minor": 0
      },
      "text/plain": [
       "Output()"
      ]
     },
     "metadata": {},
     "output_type": "display_data"
    }
   ],
   "source": [
    "# Run this cell to submit your answer\n",
    "utils.exercise_7()"
   ]
  },
  {
   "cell_type": "markdown",
   "id": "ba973eaf",
   "metadata": {},
   "source": [
    "## Exercise 8:\n",
    "\n",
    "Given the same scenario as in the previous exercise but with the twist that you only throw the dice a second time if the result of the first throw is **greater** or equal to 3. Which of the following `probability mass functions` will be the one you should get given this new constraint?\n",
    "\n",
    "<table><tr>\n",
    "<td> <img src=\"./images/6_sided_cond_green2.png\" style=\"height: 250px;\"/> </td>\n",
    "<td> <img src=\"./images/6_sided_cond_blue2.png\" style=\"height: 250px;\"/> </td>\n",
    "<td> <img src=\"./images/6_sided_cond_red2.png\" style=\"height: 250px;\"/> </td>\n",
    "<td> <img src=\"./images/6_sided_cond_brown2.png\" style=\"height: 250px;\"/> </td>\n",
    "\n",
    "</tr></table>\n"
   ]
  },
  {
   "cell_type": "code",
   "execution_count": 17,
   "id": "4d25300f",
   "metadata": {},
   "outputs": [
    {
     "name": "stdout",
     "output_type": "stream",
     "text": [
      "[ 1  2  4  5  6  7  8  9 10 11 12]\n"
     ]
    },
    {
     "data": {
      "image/png": "[encoded data removed]",
      "text/plain": [
       "<Figure size 640x480 with 1 Axes>"
      ]
     },
     "metadata": {},
     "output_type": "display_data"
    }
   ],
   "source": [
    "# You can use this cell for your calculations (not graded)\n",
    "num_rolls = 100000\n",
    "\n",
    "count_roll_1 = []\n",
    "count_roll_2 = []\n",
    "sum_rolls = []\n",
    "\n",
    "for _ in range(num_rolls):\n",
    "    roll_1 = np.random.choice(np.arange(1,7))\n",
    "    count_roll_1.append(roll_1)\n",
    "    #print('roll_1',roll_1)\n",
    "    if roll_1 >= 3:\n",
    "        roll_2 = np.random.choice(np.arange(1,7))\n",
    "        count_roll_2.append(roll_2)\n",
    "        #print('roll_2',roll_2)\n",
    "        total = roll_1 + roll_2\n",
    "        sum_rolls.append(total)\n",
    "    else: \n",
    "        total = roll_1\n",
    "        sum_rolls.append(total)\n",
    "\n",
    "#print(count_roll_1)\n",
    "#print(count_roll_2)\n",
    "#print(sum_rolls)\n",
    "\n",
    "unique_sum_rolls = np.unique(sum_rolls,)\n",
    "print(unique_sum_rolls)\n",
    "sns.histplot(sum_rolls, stat='probability', bins=np.arange(0.5,13.5,1))\n",
    "plt.xticks(range(0,13,1))\n",
    "plt.xlabel('Sum of Rolls')\n",
    "plt.ylabel('Probability')\n",
    "plt.show()"
   ]
  },
  {
   "cell_type": "code",
   "execution_count": 11,
   "id": "33bb9fd2",
   "metadata": {},
   "outputs": [
    {
     "data": {
      "application/vnd.jupyter.widget-view+json": {
       "model_id": "479079d84247401d82950d7ac18f0120",
       "version_major": 2,
       "version_minor": 0
      },
      "text/plain": [
       "ToggleButtons(description='Your answer:', options=('left-most', 'left-center', 'right-center', 'right-most'), …"
      ]
     },
     "metadata": {},
     "output_type": "display_data"
    },
    {
     "data": {
      "application/vnd.jupyter.widget-view+json": {
       "model_id": "64807c08ad064f29858f6f7036ac10f8",
       "version_major": 2,
       "version_minor": 0
      },
      "text/plain": [
       "Button(button_style='success', description='Save your answer!', style=ButtonStyle())"
      ]
     },
     "metadata": {},
     "output_type": "display_data"
    },
    {
     "data": {
      "application/vnd.jupyter.widget-view+json": {
       "model_id": "e8562945564d45a0978abb30721f0020",
       "version_major": 2,
       "version_minor": 0
      },
      "text/plain": [
       "Output()"
      ]
     },
     "metadata": {},
     "output_type": "display_data"
    }
   ],
   "source": [
    "# Run this cell to submit your answer\n",
    "utils.exercise_8()"
   ]
  },
  {
   "cell_type": "markdown",
   "id": "017e9b22",
   "metadata": {},
   "source": [
    "## Exercise 9:\n",
    "\n",
    "Given a n-sided fair dice. You throw it twice and record the sum. How does increasing the number of sides `n` of the dice impact the mean and variance of the sum and the covariance of the joint distribution?"
   ]
  },
  {
   "cell_type": "code",
   "execution_count": 38,
   "id": "645a9b74",
   "metadata": {},
   "outputs": [
    {
     "name": "stdout",
     "output_type": "stream",
     "text": [
      "The mean of the sum of 2-sided dice thrown twice is: 2.999\n",
      "The variance of the sum of 2-sided dice thrown twice is: 0.500\n",
      "The mean of the sum of 10-sided dice thrown twice is: 11.007\n",
      "The variance of the sum of 10-sided dice thrown twice is: 16.548\n",
      "The mean of the sum of 25-sided dice thrown twice is: 26.009\n",
      "The variance of the sum of 25-sided dice thrown twice is: 104.159\n",
      "The mean of the sum of 50-sided dice thrown twice is: 50.938\n",
      "The variance of the sum of 50-sided dice thrown twice is: 415.626\n"
     ]
    }
   ],
   "source": [
    "def n_sides(n , num_rolls=100_000 ):\n",
    "    np.random.seed(42)\n",
    "    sum_rolls = []\n",
    "    for i in range(num_rolls):\n",
    "        roll_1 = np.random.choice(np.arange(1, n+1))\n",
    "        roll_2 = np.random.choice(np.arange(1, n+1))\n",
    "        total = roll_1 + roll_2\n",
    "        sum_rolls.append(total)\n",
    "    mean = np.mean(sum_rolls)\n",
    "    var = np.var(sum_rolls)\n",
    "    \n",
    "    print(f'The mean of the sum of {n}-sided dice thrown twice is: {mean:.3f}')\n",
    "    print(f'The variance of the sum of {n}-sided dice thrown twice is: {var:.3f}')\n",
    "\n",
    "n_sides(2)\n",
    "n_sides(10)\n",
    "n_sides(25)\n",
    "n_sides(50)"
   ]
  },
  {
   "cell_type": "code",
   "execution_count": 18,
   "id": "907412da",
   "metadata": {},
   "outputs": [
    {
     "name": "stdout",
     "output_type": "stream",
     "text": [
      "As the number of sides in the die increases:\n"
     ]
    },
    {
     "data": {
      "application/vnd.jupyter.widget-view+json": {
       "model_id": "68526f3a64e94f3ba61144e3d8fd6f2f",
       "version_major": 2,
       "version_minor": 0
      },
      "text/plain": [
       "ToggleButtons(description='The mean of the sum:', options=('stays the same', 'increases', 'decreases'), value=…"
      ]
     },
     "metadata": {},
     "output_type": "display_data"
    },
    {
     "data": {
      "application/vnd.jupyter.widget-view+json": {
       "model_id": "7e060ecd603f45f5b8a8d425b1b3fc88",
       "version_major": 2,
       "version_minor": 0
      },
      "text/plain": [
       "ToggleButtons(description='The variance of the sum:', options=('stays the same', 'increases', 'decreases'), va…"
      ]
     },
     "metadata": {},
     "output_type": "display_data"
    },
    {
     "data": {
      "application/vnd.jupyter.widget-view+json": {
       "model_id": "3da01802a1874605a85cdb64cb905ea6",
       "version_major": 2,
       "version_minor": 0
      },
      "text/plain": [
       "ToggleButtons(description='The covariance of the joint distribution:', options=('stays the same', 'increases',…"
      ]
     },
     "metadata": {},
     "output_type": "display_data"
    },
    {
     "data": {
      "application/vnd.jupyter.widget-view+json": {
       "model_id": "7fd30973c5b14e1b99066aa7c638b3ff",
       "version_major": 2,
       "version_minor": 0
      },
      "text/plain": [
       "Button(button_style='success', description='Save your answer!', style=ButtonStyle())"
      ]
     },
     "metadata": {},
     "output_type": "display_data"
    },
    {
     "data": {
      "application/vnd.jupyter.widget-view+json": {
       "model_id": "727c2b2afdf2437bafa0ae128b87d228",
       "version_major": 2,
       "version_minor": 0
      },
      "text/plain": [
       "Output()"
      ]
     },
     "metadata": {},
     "output_type": "display_data"
    }
   ],
   "source": [
    "# Run this cell to submit your answer\n",
    "utils.exercise_9()"
   ]
  },
  {
   "cell_type": "markdown",
   "id": "fcf9b3ac",
   "metadata": {},
   "source": [
    "## Exercise 10:\n",
    "\n",
    "Given a 6-sided loaded dice. You throw it twice and record the sum. Which of the following statemets is true?"
   ]
  },
  {
   "cell_type": "code",
   "execution_count": 46,
   "id": "008c5858",
   "metadata": {},
   "outputs": [
    {
     "name": "stdout",
     "output_type": "stream",
     "text": [
      "Loaded side: 1 -> Sum Mean: 5.00, Sum Variance: 6.50\n",
      "Loaded side: 2 -> Sum Mean: 5.80, Sum Variance: 4.58\n",
      "Loaded side: 3 -> Sum Mean: 6.60, Sum Variance: 3.62\n",
      "Loaded side: 4 -> Sum Mean: 7.40, Sum Variance: 3.62\n",
      "Loaded side: 5 -> Sum Mean: 8.20, Sum Variance: 4.58\n",
      "Loaded side: 6 -> Sum Mean: 9.00, Sum Variance: 6.50\n"
     ]
    }
   ],
   "source": [
    "import numpy as np\n",
    "\n",
    "def loaded_die_statistics(loaded_side, p):\n",
    "    \"\"\"\n",
    "    Calculate the mean and variance of a loaded 6-sided die.\n",
    "    \n",
    "    Parameters:\n",
    "    loaded_side (int): The side of the die that is loaded (1 to 6).\n",
    "    p (float): The probability of rolling the loaded side.\n",
    "    \n",
    "    Returns:\n",
    "    (mean, variance): The mean and variance of the loaded die.\n",
    "    \"\"\"\n",
    "    # Initialize probabilities\n",
    "    probabilities = np.full(6, (1 - p) / 5)\n",
    "    probabilities[loaded_side - 1] = p\n",
    "    \n",
    "    # Calculate mean\n",
    "    mean = np.sum((np.arange(1, 7) * probabilities))\n",
    "    \n",
    "    # Calculate variance\n",
    "    variance = np.sum(((np.arange(1, 7) - mean) ** 2) * probabilities)\n",
    "    \n",
    "    return mean, variance\n",
    "\n",
    "def sum_two_loaded_dice_statistics(loaded_side, p):\n",
    "    \"\"\"\n",
    "    Calculate the mean and variance of the sum of two rolls of a loaded 6-sided die.\n",
    "    \n",
    "    Parameters:\n",
    "    loaded_side (int): The side of the die that is loaded (1 to 6).\n",
    "    p (float): The probability of rolling the loaded side.\n",
    "    \n",
    "    Returns:\n",
    "    (mean, variance): The mean and variance of the sum of two rolls.\n",
    "    \"\"\"\n",
    "    mean, variance = loaded_die_statistics(loaded_side, p)\n",
    "    \n",
    "    # For the sum of two independent rolls\n",
    "    sum_mean = 2 * mean\n",
    "    sum_variance = 2 * variance\n",
    "    \n",
    "    return sum_mean, sum_variance\n",
    "\n",
    "# Define probabilities and the loaded side\n",
    "loaded_sides = range(1, 7)\n",
    "p = 0.5  # Example loaded probability\n",
    "\n",
    "# Calculate statistics for each loaded side\n",
    "results = {}\n",
    "for side in loaded_sides:\n",
    "    sum_mean, sum_variance = sum_two_loaded_dice_statistics(side, p)\n",
    "    results[side] = (sum_mean, sum_variance)\n",
    "\n",
    "# Display the results\n",
    "for side, (mean, variance) in results.items():\n",
    "    print(f\"Loaded side: {side} -> Sum Mean: {mean:.2f}, Sum Variance: {variance:.2f}\")\n"
   ]
  },
  {
   "cell_type": "code",
   "execution_count": 39,
   "id": "99373567",
   "metadata": {},
   "outputs": [
    {
     "data": {
      "application/vnd.jupyter.widget-view+json": {
       "model_id": "dae1006d027b4c5d9bb3d06446656c2f",
       "version_major": 2,
       "version_minor": 0
      },
      "text/plain": [
       "RadioButtons(layout=Layout(width='max-content'), options=('the mean and variance is the same regardless of whi…"
      ]
     },
     "metadata": {},
     "output_type": "display_data"
    },
    {
     "data": {
      "application/vnd.jupyter.widget-view+json": {
       "model_id": "dd2466f1a4694db59c5ded96fb2f2930",
       "version_major": 2,
       "version_minor": 0
      },
      "text/plain": [
       "Button(button_style='success', description='Save your answer!', style=ButtonStyle())"
      ]
     },
     "metadata": {},
     "output_type": "display_data"
    },
    {
     "data": {
      "application/vnd.jupyter.widget-view+json": {
       "model_id": "8b1679f3470147aaa5bac7499f5ea4a7",
       "version_major": 2,
       "version_minor": 0
      },
      "text/plain": [
       "Output()"
      ]
     },
     "metadata": {},
     "output_type": "display_data"
    }
   ],
   "source": [
    "# Run this cell to submit your answer\n",
    "utils.exercise_10()"
   ]
  },
  {
   "cell_type": "markdown",
   "id": "f8a1a8a3",
   "metadata": {},
   "source": [
    "## Exercise 11:\n",
    "\n",
    "Given a n-sided dice (could be fair or not). You throw it twice and record the sum (there is no dependance between the throws). If you are only given the histogram of the sums can you use it to know which are the probabilities of the dice landing on each side?\n",
    "\n",
    "In other words, if you are provided with only the histogram of the sums like this one:\n",
    "<td> <img src=\"./images/hist_sum_6_side.png\" style=\"height: 300px;\"/> </td>\n",
    "\n",
    "Could you use it to know the probabilities of the dice landing on each side? Which will be equivalent to finding this histogram:\n",
    "<img src=\"./images/fair_dice.png\" style=\"height: 300px;\"/>\n"
   ]
  },
  {
   "cell_type": "code",
   "execution_count": null,
   "id": "b42149cf",
   "metadata": {},
   "outputs": [],
   "source": [
    "# You can use this cell for your calculations (not graded)\n",
    "\n",
    "import numpy as np\n",
    "from scipy.optimize import minimize\n",
    "\n",
    "# Example histogram of sums for 2 to 12 (observed frequencies)\n",
    "observed_sums = np.array([0.02, 0.04, 0.06, 0.08, 0.16, 0.18, 0.14, 0.12, 0.10, 0.06, 0.04, 0.02])\n",
    "\n",
    "# Function to compute the sum probabilities given individual side probabilities\n",
    "def sum_probabilities(p):\n",
    "    p_extended = np.zeros(13)\n",
    "    for i in range(1, 7):\n",
    "        for j in range(1, 7):\n",
    "            p_extended[i + j] += p[i - 1] * p[j - 1]\n",
    "    return p_extended[2:]\n",
    "\n",
    "# Objective function to minimize the difference between observed and calculated sums\n",
    "def objective(p):\n",
    "    calculated_sums = sum_probabilities(p)\n",
    "    return np.sum((observed_sums - calculated_sums) ** 2)\n",
    "\n",
    "# Initial guess: fair dice probabilities\n",
    "initial_guess = np.array([1/6] * 6)\n",
    "\n",
    "# Constraints: probabilities must sum to 1\n",
    "constraints = ({'type': 'eq', 'fun': lambda p: np.sum(p) - 1})\n",
    "\n",
    "# Bounds: probabilities must be between 0 and 1\n",
    "bounds = [(0, 1)] * 6\n",
    "\n",
    "# Optimization to find the best probabilities\n",
    "result = minimize(objective, initial_guess, constraints=constraints, bounds=bounds)\n",
    "\n",
    "# Output the probabilities\n",
    "if result.success:\n",
    "    inferred_probabilities = result.x\n",
    "    print(\"Inferred probabilities for each side:\", inferred_probabilities)\n",
    "else:\n",
    "    print(\"Optimization failed:\", result.message)\n"
   ]
  },
  {
   "cell_type": "code",
   "execution_count": 43,
   "id": "33a2e4d9",
   "metadata": {},
   "outputs": [
    {
     "data": {
      "application/vnd.jupyter.widget-view+json": {
       "model_id": "b4ba35ad2e94447aaf3757d2bcd6857c",
       "version_major": 2,
       "version_minor": 0
      },
      "text/plain": [
       "RadioButtons(layout=Layout(width='max-content'), options=('yes, but only if one of the sides is loaded', 'no, …"
      ]
     },
     "metadata": {},
     "output_type": "display_data"
    },
    {
     "data": {
      "application/vnd.jupyter.widget-view+json": {
       "model_id": "8569d64ea43f413d826c32b67097f785",
       "version_major": 2,
       "version_minor": 0
      },
      "text/plain": [
       "Button(button_style='success', description='Save your answer!', style=ButtonStyle())"
      ]
     },
     "metadata": {},
     "output_type": "display_data"
    },
    {
     "data": {
      "application/vnd.jupyter.widget-view+json": {
       "model_id": "5981a1f5990b41988e2856d7ba8539a7",
       "version_major": 2,
       "version_minor": 0
      },
      "text/plain": [
       "Output()"
      ]
     },
     "metadata": {},
     "output_type": "display_data"
    }
   ],
   "source": [
    "# Run this cell to submit your answer\n",
    "utils.exercise_11()"
   ]
  },
  {
   "cell_type": "markdown",
   "id": "1635ca7c",
   "metadata": {},
   "source": [
    "## Before Submitting Your Assignment\n",
    "\n",
    "Run the next cell to check that you have answered all of the exercises"
   ]
  },
  {
   "cell_type": "code",
   "execution_count": 44,
   "id": "c6822278",
   "metadata": {},
   "outputs": [
    {
     "name": "stdout",
     "output_type": "stream",
     "text": [
      "All answers saved, you can submit the assignment for grading!\n"
     ]
    }
   ],
   "source": [
    "utils.check_submissions()"
   ]
  },
  {
   "cell_type": "markdown",
   "id": "5286008f",
   "metadata": {},
   "source": [
    "**Congratulations on finishing this assignment!**\n",
    "\n",
    "During this assignment you tested your knowledge on probability distributions, descriptive statistics and visual interpretation of these concepts. You had the choice to compute everything analytically or create simulations to assist you get the right answer. You probably also realized that some exercises could be answered without any computations just by looking at certain hidden queues that the visualizations revealed.\n",
    "\n",
    "**Keep up the good work!**\n"
   ]
  }
 ],
 "metadata": {
  "kernelspec": {
   "display_name": "Python 3 (ipykernel)",
   "language": "python",
   "name": "python3"
  },
  "language_info": {
   "codemirror_mode": {
    "name": "ipython",
    "version": 3
   },
   "file_extension": ".py",
   "mimetype": "text/x-python",
   "name": "python",
   "nbconvert_exporter": "python",
   "pygments_lexer": "ipython3",
   "version": "3.10.11"
  }
 },
 "nbformat": 4,
 "nbformat_minor": 5
}
